{
 "cells": [
  {
   "cell_type": "markdown",
   "metadata": {},
   "source": [
    "# Fussing to create a specdb compliable file"
   ]
  },
  {
   "cell_type": "code",
   "execution_count": 26,
   "metadata": {},
   "outputs": [],
   "source": [
    "# imports\n",
    "import h5py\n",
    "import numpy as np\n",
    "from astropy.table import Table\n",
    "\n",
    "from specdb.build import utils as spbu\n",
    "from specdb import defs as spb_defs"
   ]
  },
  {
   "cell_type": "markdown",
   "metadata": {},
   "source": [
    "## Point to current hdf5"
   ]
  },
  {
   "cell_type": "code",
   "execution_count": 2,
   "metadata": {},
   "outputs": [],
   "source": [
    "hdf = h5py.File('../../desi_dla_1.hdf', 'r')"
   ]
  },
  {
   "cell_type": "code",
   "execution_count": 3,
   "metadata": {},
   "outputs": [
    {
     "data": {
      "text/plain": [
       "['spec', 'zem']"
      ]
     },
     "execution_count": 3,
     "metadata": {},
     "output_type": "execute_result"
    }
   ],
   "source": [
    "list(hdf['z2.8-2.85'].keys())"
   ]
  },
  {
   "cell_type": "code",
   "execution_count": 4,
   "metadata": {},
   "outputs": [],
   "source": [
    "zem = hdf['z2.8-2.85']['zem'].value"
   ]
  },
  {
   "cell_type": "code",
   "execution_count": 5,
   "metadata": {},
   "outputs": [
    {
     "data": {
      "text/plain": [
       "array([2.82755788, 2.83039514, 2.84732377, ..., 2.84863594, 2.80509971,\n",
       "       2.82674997])"
      ]
     },
     "execution_count": 5,
     "metadata": {},
     "output_type": "execute_result"
    }
   ],
   "source": [
    "zem"
   ]
  },
  {
   "cell_type": "markdown",
   "metadata": {},
   "source": [
    "## Let's do just one"
   ]
  },
  {
   "cell_type": "code",
   "execution_count": 6,
   "metadata": {},
   "outputs": [],
   "source": [
    "hdfnew = h5py.File('z2.8_specdb_test.hdf', 'w')"
   ]
  },
  {
   "cell_type": "code",
   "execution_count": 7,
   "metadata": {},
   "outputs": [],
   "source": [
    "group = 'z2.8-2.85'"
   ]
  },
  {
   "cell_type": "code",
   "execution_count": 8,
   "metadata": {},
   "outputs": [],
   "source": [
    "_ = hdfnew.create_group(group)"
   ]
  },
  {
   "cell_type": "markdown",
   "metadata": {},
   "source": [
    "### Start catalog"
   ]
  },
  {
   "cell_type": "code",
   "execution_count": 9,
   "metadata": {},
   "outputs": [],
   "source": [
    "id_key = 'DESI_ID'"
   ]
  },
  {
   "cell_type": "code",
   "execution_count": 10,
   "metadata": {},
   "outputs": [],
   "source": [
    "maindb, tkeys = spbu.start_maindb(id_key)"
   ]
  },
  {
   "cell_type": "code",
   "execution_count": 11,
   "metadata": {},
   "outputs": [
    {
     "data": {
      "text/plain": [
       "['RA', 'DEC', 'zem', 'sig_zem', 'flag_zem', 'flag_group', 'STYPE', 'DESI_ID']"
      ]
     },
     "execution_count": 11,
     "metadata": {},
     "output_type": "execute_result"
    }
   ],
   "source": [
    "maindb.keys()"
   ]
  },
  {
   "cell_type": "code",
   "execution_count": 12,
   "metadata": {},
   "outputs": [],
   "source": [
    "gdict = {}"
   ]
  },
  {
   "cell_type": "markdown",
   "metadata": {},
   "source": [
    "### Generate meta"
   ]
  },
  {
   "cell_type": "code",
   "execution_count": 13,
   "metadata": {},
   "outputs": [],
   "source": [
    "meta = Table()"
   ]
  },
  {
   "cell_type": "code",
   "execution_count": 14,
   "metadata": {},
   "outputs": [],
   "source": [
    "meta['zem_GROUP'] = hdf[group]['zem'].value"
   ]
  },
  {
   "cell_type": "code",
   "execution_count": 15,
   "metadata": {},
   "outputs": [
    {
     "data": {
      "text/plain": [
       "24143"
      ]
     },
     "execution_count": 15,
     "metadata": {},
     "output_type": "execute_result"
    }
   ],
   "source": [
    "nqso = len(meta)\n",
    "nqso"
   ]
  },
  {
   "cell_type": "markdown",
   "metadata": {},
   "source": [
    "#### All the others that are needed;  am filling in random junk for most"
   ]
  },
  {
   "cell_type": "code",
   "execution_count": 16,
   "metadata": {},
   "outputs": [],
   "source": [
    "meta['RA_GROUP'] = np.random.uniform(0., 360., nqso)\n",
    "meta['DEC_GROUP'] = np.random.uniform(-90, 90., nqso)\n",
    "meta['EPOCH'] = 2000.\n",
    "meta['sig_zem'] = 0.\n",
    "meta['flag_zem'] = 'DESI'\n",
    "meta['STYPE'] = 'QSO'\n",
    "# Observation\n",
    "meta['SPEC_FILE'] = 'filename'\n",
    "meta['DATE-OBS'] = '2019-01-01'\n",
    "#\n",
    "meta['GROUP_ID'] = np.arange(len(meta)).astype(int)\n",
    "# Spectrograph\n",
    "meta['R'] = 3000.\n",
    "meta['TELESCOPE'] = 'KPNO-4m'\n",
    "meta['DISPERSER'] = 'ALL'\n",
    "meta['INSTR'] = 'DESI'\n",
    "meta['WV_MIN'] = 3800.  # Should be the right value\n",
    "meta['WV_MAX'] = 9900.  # Should be the right value\n",
    "meta['NPIX'] = 8000 # Should be the right value"
   ]
  },
  {
   "cell_type": "markdown",
   "metadata": {},
   "source": [
    "#### Here are a few to more easily ID the sources -- Could take them from the mock file names"
   ]
  },
  {
   "cell_type": "code",
   "execution_count": 17,
   "metadata": {},
   "outputs": [],
   "source": [
    "meta['PLATE'] = 1\n",
    "meta['FIBERID'] = np.arange(len(meta)).astype(int) + 1"
   ]
  },
  {
   "cell_type": "markdown",
   "metadata": {},
   "source": [
    "#### Check;  should only be missing DESI_ID"
   ]
  },
  {
   "cell_type": "code",
   "execution_count": 18,
   "metadata": {},
   "outputs": [
    {
     "name": "stdout",
     "output_type": "stream",
     "text": [
      "Missing ID key: DESI_ID\n"
     ]
    },
    {
     "name": "stderr",
     "output_type": "stream",
     "text": [
      "/home/xavier/local/Python/specdb/specdb/build/utils.py:298: UserWarning: unicode in column flag_zem.  Will convert to str for hdf5\n",
      "  warnings.warn(\"unicode in column {:s}.  Will convert to str for hdf5\".format(key))\n",
      "/home/xavier/local/Python/specdb/specdb/build/utils.py:298: UserWarning: unicode in column STYPE.  Will convert to str for hdf5\n",
      "  warnings.warn(\"unicode in column {:s}.  Will convert to str for hdf5\".format(key))\n",
      "/home/xavier/local/Python/specdb/specdb/build/utils.py:298: UserWarning: unicode in column SPEC_FILE.  Will convert to str for hdf5\n",
      "  warnings.warn(\"unicode in column {:s}.  Will convert to str for hdf5\".format(key))\n",
      "/home/xavier/local/Python/specdb/specdb/build/utils.py:298: UserWarning: unicode in column DATE-OBS.  Will convert to str for hdf5\n",
      "  warnings.warn(\"unicode in column {:s}.  Will convert to str for hdf5\".format(key))\n",
      "/home/xavier/local/Python/specdb/specdb/build/utils.py:298: UserWarning: unicode in column TELESCOPE.  Will convert to str for hdf5\n",
      "  warnings.warn(\"unicode in column {:s}.  Will convert to str for hdf5\".format(key))\n",
      "/home/xavier/local/Python/specdb/specdb/build/utils.py:298: UserWarning: unicode in column DISPERSER.  Will convert to str for hdf5\n",
      "  warnings.warn(\"unicode in column {:s}.  Will convert to str for hdf5\".format(key))\n",
      "/home/xavier/local/Python/specdb/specdb/build/utils.py:298: UserWarning: unicode in column INSTR.  Will convert to str for hdf5\n",
      "  warnings.warn(\"unicode in column {:s}.  Will convert to str for hdf5\".format(key))\n"
     ]
    },
    {
     "data": {
      "text/plain": [
       "False"
      ]
     },
     "execution_count": 18,
     "metadata": {},
     "output_type": "execute_result"
    }
   ],
   "source": [
    "spbu.chk_meta(meta)"
   ]
  },
  {
   "cell_type": "markdown",
   "metadata": {},
   "source": [
    "### Group ID"
   ]
  },
  {
   "cell_type": "code",
   "execution_count": 19,
   "metadata": {},
   "outputs": [
    {
     "data": {
      "text/plain": [
       "(1, {'z2.8-2.85': 1})"
      ]
     },
     "execution_count": 19,
     "metadata": {},
     "output_type": "execute_result"
    }
   ],
   "source": [
    "flag_g = spbu.add_to_group_dict(group, gdict)\n",
    "flag_g, gdict"
   ]
  },
  {
   "cell_type": "markdown",
   "metadata": {},
   "source": [
    "### Catalog"
   ]
  },
  {
   "cell_type": "code",
   "execution_count": 20,
   "metadata": {},
   "outputs": [
    {
     "name": "stdout",
     "output_type": "stream",
     "text": [
      "The following sources were previously in the DB\n",
      "zem_GROUP RA_GROUP DEC_GROUP EPOCH ... DATE-OBS TELESCOPE DISPERSER INSTR\n",
      "--------- -------- --------- ----- ... -------- --------- --------- -----\n"
     ]
    }
   ],
   "source": [
    "# The output should be blank.  If not, your random RA/DEC accidentally overlapped\n",
    "maindb = spbu.add_ids(maindb, meta, flag_g, tkeys, 'DESI_ID', first=(flag_g==1))"
   ]
  },
  {
   "cell_type": "code",
   "execution_count": 21,
   "metadata": {},
   "outputs": [
    {
     "data": {
      "text/html": [
       "<i>Table length=24143</i>\n",
       "<table id=\"table140635148167544\" class=\"table-striped table-bordered table-condensed\">\n",
       "<thead><tr><th>RA</th><th>DEC</th><th>zem</th><th>sig_zem</th><th>flag_zem</th><th>flag_group</th><th>STYPE</th><th>DESI_ID</th></tr></thead>\n",
       "<thead><tr><th>float64</th><th>float64</th><th>float64</th><th>float64</th><th>bytes4</th><th>int64</th><th>bytes3</th><th>int64</th></tr></thead>\n",
       "<tr><td>296.419068958445</td><td>27.922570144990928</td><td>2.8275578835164197</td><td>0.0</td><td>DESI</td><td>1</td><td>QSO</td><td>0</td></tr>\n",
       "<tr><td>26.705870509254012</td><td>-50.43326546303695</td><td>2.8303951445268467</td><td>0.0</td><td>DESI</td><td>1</td><td>QSO</td><td>1</td></tr>\n",
       "<tr><td>274.55607580214354</td><td>-77.83190633858185</td><td>2.847323770984076</td><td>0.0</td><td>DESI</td><td>1</td><td>QSO</td><td>2</td></tr>\n",
       "<tr><td>112.3664065846356</td><td>-37.356070138894815</td><td>2.8233004312496632</td><td>0.0</td><td>DESI</td><td>1</td><td>QSO</td><td>3</td></tr>\n",
       "<tr><td>351.92722539355105</td><td>-79.6338013518388</td><td>2.813991705974331</td><td>0.0</td><td>DESI</td><td>1</td><td>QSO</td><td>4</td></tr>\n",
       "<tr><td>109.85319746346963</td><td>-35.73617491534271</td><td>2.816572714364156</td><td>0.0</td><td>DESI</td><td>1</td><td>QSO</td><td>5</td></tr>\n",
       "<tr><td>215.74009249321622</td><td>-39.016507348429315</td><td>2.802824530401267</td><td>0.0</td><td>DESI</td><td>1</td><td>QSO</td><td>6</td></tr>\n",
       "<tr><td>170.31996121378265</td><td>-86.51471409995793</td><td>2.837784356321208</td><td>0.0</td><td>DESI</td><td>1</td><td>QSO</td><td>7</td></tr>\n",
       "<tr><td>249.79843747219988</td><td>-79.97984789873612</td><td>2.810037763323635</td><td>0.0</td><td>DESI</td><td>1</td><td>QSO</td><td>8</td></tr>\n",
       "<tr><td>343.5062084322107</td><td>-79.43002142497033</td><td>2.8204020836856216</td><td>0.0</td><td>DESI</td><td>1</td><td>QSO</td><td>9</td></tr>\n",
       "<tr><td>...</td><td>...</td><td>...</td><td>...</td><td>...</td><td>...</td><td>...</td><td>...</td></tr>\n",
       "<tr><td>179.10707302550446</td><td>66.57626592634404</td><td>2.809508294798434</td><td>0.0</td><td>DESI</td><td>1</td><td>QSO</td><td>24133</td></tr>\n",
       "<tr><td>289.80647874826406</td><td>-46.1378120254252</td><td>2.8318594810552895</td><td>0.0</td><td>DESI</td><td>1</td><td>QSO</td><td>24134</td></tr>\n",
       "<tr><td>208.8219220664968</td><td>-13.689708907301792</td><td>2.8465649033896625</td><td>0.0</td><td>DESI</td><td>1</td><td>QSO</td><td>24135</td></tr>\n",
       "<tr><td>62.85274161145537</td><td>28.124091173165695</td><td>2.834684487199411</td><td>0.0</td><td>DESI</td><td>1</td><td>QSO</td><td>24136</td></tr>\n",
       "<tr><td>205.92226011470393</td><td>38.833115082530384</td><td>2.8170460619730875</td><td>0.0</td><td>DESI</td><td>1</td><td>QSO</td><td>24137</td></tr>\n",
       "<tr><td>336.35216043473434</td><td>31.762746611133608</td><td>2.819511212874204</td><td>0.0</td><td>DESI</td><td>1</td><td>QSO</td><td>24138</td></tr>\n",
       "<tr><td>288.1090550856748</td><td>-38.00938527880297</td><td>2.8409603701438755</td><td>0.0</td><td>DESI</td><td>1</td><td>QSO</td><td>24139</td></tr>\n",
       "<tr><td>336.61161711359904</td><td>6.625071937246275</td><td>2.848635937552899</td><td>0.0</td><td>DESI</td><td>1</td><td>QSO</td><td>24140</td></tr>\n",
       "<tr><td>262.3813242741901</td><td>2.8582706926615913</td><td>2.805099714663811</td><td>0.0</td><td>DESI</td><td>1</td><td>QSO</td><td>24141</td></tr>\n",
       "<tr><td>166.10032764390758</td><td>69.06791507506426</td><td>2.826749966479838</td><td>0.0</td><td>DESI</td><td>1</td><td>QSO</td><td>24142</td></tr>\n",
       "</table>"
      ],
      "text/plain": [
       "<Table length=24143>\n",
       "        RA                 DEC                zem         ... STYPE  DESI_ID\n",
       "     float64             float64            float64       ... bytes3  int64 \n",
       "------------------ ------------------- ------------------ ... ------ -------\n",
       "  296.419068958445  27.922570144990928 2.8275578835164197 ...    QSO       0\n",
       "26.705870509254012  -50.43326546303695 2.8303951445268467 ...    QSO       1\n",
       "274.55607580214354  -77.83190633858185  2.847323770984076 ...    QSO       2\n",
       " 112.3664065846356 -37.356070138894815 2.8233004312496632 ...    QSO       3\n",
       "351.92722539355105   -79.6338013518388  2.813991705974331 ...    QSO       4\n",
       "109.85319746346963  -35.73617491534271  2.816572714364156 ...    QSO       5\n",
       "215.74009249321622 -39.016507348429315  2.802824530401267 ...    QSO       6\n",
       "170.31996121378265  -86.51471409995793  2.837784356321208 ...    QSO       7\n",
       "249.79843747219988  -79.97984789873612  2.810037763323635 ...    QSO       8\n",
       " 343.5062084322107  -79.43002142497033 2.8204020836856216 ...    QSO       9\n",
       "               ...                 ...                ... ...    ...     ...\n",
       "179.10707302550446   66.57626592634404  2.809508294798434 ...    QSO   24133\n",
       "289.80647874826406   -46.1378120254252 2.8318594810552895 ...    QSO   24134\n",
       " 208.8219220664968 -13.689708907301792 2.8465649033896625 ...    QSO   24135\n",
       " 62.85274161145537  28.124091173165695  2.834684487199411 ...    QSO   24136\n",
       "205.92226011470393  38.833115082530384 2.8170460619730875 ...    QSO   24137\n",
       "336.35216043473434  31.762746611133608  2.819511212874204 ...    QSO   24138\n",
       " 288.1090550856748  -38.00938527880297 2.8409603701438755 ...    QSO   24139\n",
       "336.61161711359904   6.625071937246275  2.848635937552899 ...    QSO   24140\n",
       " 262.3813242741901  2.8582706926615913  2.805099714663811 ...    QSO   24141\n",
       "166.10032764390758   69.06791507506426  2.826749966479838 ...    QSO   24142"
      ]
     },
     "execution_count": 21,
     "metadata": {},
     "output_type": "execute_result"
    }
   ],
   "source": [
    "maindb"
   ]
  },
  {
   "cell_type": "markdown",
   "metadata": {},
   "source": [
    "### Check -- should be ok now"
   ]
  },
  {
   "cell_type": "code",
   "execution_count": 22,
   "metadata": {},
   "outputs": [
    {
     "data": {
      "text/plain": [
       "True"
      ]
     },
     "execution_count": 22,
     "metadata": {},
     "output_type": "execute_result"
    }
   ],
   "source": [
    "spbu.chk_meta(meta)"
   ]
  },
  {
   "cell_type": "markdown",
   "metadata": {},
   "source": [
    "### Spectra"
   ]
  },
  {
   "cell_type": "code",
   "execution_count": 24,
   "metadata": {},
   "outputs": [],
   "source": [
    "hdf.copy(group+'/spec', hdfnew[group])"
   ]
  },
  {
   "cell_type": "markdown",
   "metadata": {},
   "source": [
    "### Meta"
   ]
  },
  {
   "cell_type": "code",
   "execution_count": 25,
   "metadata": {},
   "outputs": [],
   "source": [
    "hdfnew[group]['meta'] = meta"
   ]
  },
  {
   "cell_type": "markdown",
   "metadata": {},
   "source": [
    "## Finish"
   ]
  },
  {
   "cell_type": "code",
   "execution_count": 27,
   "metadata": {},
   "outputs": [],
   "source": [
    "# redshift priority (needed but not used)\n",
    "zpri = spb_defs.z_priority()"
   ]
  },
  {
   "cell_type": "code",
   "execution_count": 32,
   "metadata": {},
   "outputs": [],
   "source": [
    "spbu.write_hdf(hdfnew, str('test_DESI'), maindb, zpri, gdict, str('v0.1'),\n",
    "              Publisher='jding')"
   ]
  },
  {
   "cell_type": "markdown",
   "metadata": {},
   "source": [
    "## Fussing"
   ]
  },
  {
   "cell_type": "code",
   "execution_count": 33,
   "metadata": {},
   "outputs": [
    {
     "data": {
      "text/html": [
       "<i>Row index=0</i>\n",
       "<table id=\"table140635149049808\">\n",
       "<thead><tr><th>zem_GROUP</th><th>RA_GROUP</th><th>DEC_GROUP</th><th>EPOCH</th><th>sig_zem</th><th>GROUP_ID</th><th>R</th><th>WV_MIN</th><th>WV_MAX</th><th>NPIX</th><th>PLATE</th><th>FIBERID</th><th>flag_zem</th><th>STYPE</th><th>SPEC_FILE</th><th>DATE-OBS</th><th>TELESCOPE</th><th>DISPERSER</th><th>INSTR</th><th>DESI_ID</th></tr></thead>\n",
       "<thead><tr><th>float64</th><th>float64</th><th>float64</th><th>float64</th><th>float64</th><th>int64</th><th>float64</th><th>float64</th><th>float64</th><th>int64</th><th>int64</th><th>int64</th><th>bytes4</th><th>bytes3</th><th>bytes8</th><th>bytes10</th><th>bytes7</th><th>bytes3</th><th>bytes4</th><th>int64</th></tr></thead>\n",
       "<tr><td>2.8275578835164197</td><td>296.419068958445</td><td>27.922570144990928</td><td>2000.0</td><td>0.0</td><td>0</td><td>3000.0</td><td>3800.0</td><td>9900.0</td><td>8000</td><td>1</td><td>1</td><td>DESI</td><td>QSO</td><td>filename</td><td>2019-01-01</td><td>KPNO-4m</td><td>ALL</td><td>DESI</td><td>0</td></tr>\n",
       "</table>"
      ],
      "text/plain": [
       "<Row index=0>\n",
       "    zem_GROUP          RA_GROUP         DEC_GROUP       EPOCH  sig_zem GROUP_ID    R     WV_MIN  WV_MAX  NPIX PLATE FIBERID flag_zem STYPE  SPEC_FILE  DATE-OBS  TELESCOPE DISPERSER INSTR  DESI_ID\n",
       "     float64           float64           float64       float64 float64  int64   float64 float64 float64 int64 int64  int64   bytes4  bytes3   bytes8   bytes10     bytes7    bytes3  bytes4  int64 \n",
       "------------------ ---------------- ------------------ ------- ------- -------- ------- ------- ------- ----- ----- ------- -------- ------ --------- ---------- --------- --------- ------ -------\n",
       "2.8275578835164197 296.419068958445 27.922570144990928  2000.0     0.0        0  3000.0  3800.0  9900.0  8000     1       1     DESI    QSO  filename 2019-01-01   KPNO-4m       ALL   DESI       0"
      ]
     },
     "execution_count": 33,
     "metadata": {},
     "output_type": "execute_result"
    }
   ],
   "source": [
    "meta[0]"
   ]
  },
  {
   "cell_type": "code",
   "execution_count": null,
   "metadata": {},
   "outputs": [],
   "source": []
  }
 ],
 "metadata": {
  "kernelspec": {
   "display_name": "Python 3",
   "language": "python",
   "name": "python3"
  },
  "language_info": {
   "codemirror_mode": {
    "name": "ipython",
    "version": 3
   },
   "file_extension": ".py",
   "mimetype": "text/x-python",
   "name": "python",
   "nbconvert_exporter": "python",
   "pygments_lexer": "ipython3",
   "version": "3.6.3"
  }
 },
 "nbformat": 4,
 "nbformat_minor": 2
}
